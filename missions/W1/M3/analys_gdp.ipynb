{
 "cells": [
  {
   "cell_type": "code",
   "execution_count": 15,
   "metadata": {},
   "outputs": [],
   "source": [
    "import etl_project_gdp as etl\n",
    "import pandas as pd"
   ]
  },
  {
   "cell_type": "code",
   "execution_count": 16,
   "metadata": {},
   "outputs": [
    {
     "name": "stdout",
     "output_type": "stream",
     "text": [
      "[Extract] Found the target table. Parsing data...\n",
      "[Extract] Extracted 209 rows.\n",
      "[Extract] Saving data to data/Countries_by_GDP.json...\n",
      "[Extract] Data successfully saved to data/Countries_by_GDP.json.\n",
      "[ETL] Process completed successfully.\n",
      "[Transform] Parsing HTML data...\n"
     ]
    }
   ],
   "source": [
    "list_of_gdp = etl.main()"
   ]
  },
  {
   "cell_type": "code",
   "execution_count": 17,
   "metadata": {},
   "outputs": [
    {
     "data": {
      "text/html": [
       "<div>\n",
       "<style scoped>\n",
       "    .dataframe tbody tr th:only-of-type {\n",
       "        vertical-align: middle;\n",
       "    }\n",
       "\n",
       "    .dataframe tbody tr th {\n",
       "        vertical-align: top;\n",
       "    }\n",
       "\n",
       "    .dataframe thead th {\n",
       "        text-align: right;\n",
       "    }\n",
       "</style>\n",
       "<table border=\"1\" class=\"dataframe\">\n",
       "  <thead>\n",
       "    <tr style=\"text-align: right;\">\n",
       "      <th></th>\n",
       "      <th>country</th>\n",
       "      <th>type</th>\n",
       "      <th>gdp</th>\n",
       "      <th>year</th>\n",
       "    </tr>\n",
       "  </thead>\n",
       "  <tbody>\n",
       "    <tr>\n",
       "      <th>0</th>\n",
       "      <td>United States</td>\n",
       "      <td>IMF</td>\n",
       "      <td>30337.16</td>\n",
       "      <td>2025</td>\n",
       "    </tr>\n",
       "    <tr>\n",
       "      <th>1</th>\n",
       "      <td>China</td>\n",
       "      <td>IMF</td>\n",
       "      <td>19534.89</td>\n",
       "      <td>2025</td>\n",
       "    </tr>\n",
       "    <tr>\n",
       "      <th>2</th>\n",
       "      <td>Germany</td>\n",
       "      <td>IMF</td>\n",
       "      <td>4921.56</td>\n",
       "      <td>2025</td>\n",
       "    </tr>\n",
       "    <tr>\n",
       "      <th>3</th>\n",
       "      <td>Japan</td>\n",
       "      <td>IMF</td>\n",
       "      <td>4389.33</td>\n",
       "      <td>2025</td>\n",
       "    </tr>\n",
       "    <tr>\n",
       "      <th>4</th>\n",
       "      <td>India</td>\n",
       "      <td>IMF</td>\n",
       "      <td>4271.92</td>\n",
       "      <td>2025</td>\n",
       "    </tr>\n",
       "    <tr>\n",
       "      <th>...</th>\n",
       "      <td>...</td>\n",
       "      <td>...</td>\n",
       "      <td>...</td>\n",
       "      <td>...</td>\n",
       "    </tr>\n",
       "    <tr>\n",
       "      <th>67</th>\n",
       "      <td>Uzbekistan</td>\n",
       "      <td>IMF</td>\n",
       "      <td>112.65</td>\n",
       "      <td>2024</td>\n",
       "    </tr>\n",
       "    <tr>\n",
       "      <th>68</th>\n",
       "      <td>Guatemala</td>\n",
       "      <td>IMF</td>\n",
       "      <td>112.37</td>\n",
       "      <td>2024</td>\n",
       "    </tr>\n",
       "    <tr>\n",
       "      <th>69</th>\n",
       "      <td>Oman</td>\n",
       "      <td>IMF</td>\n",
       "      <td>109.99</td>\n",
       "      <td>2024</td>\n",
       "    </tr>\n",
       "    <tr>\n",
       "      <th>70</th>\n",
       "      <td>Bulgaria</td>\n",
       "      <td>IMF</td>\n",
       "      <td>108.42</td>\n",
       "      <td>2024</td>\n",
       "    </tr>\n",
       "    <tr>\n",
       "      <th>71</th>\n",
       "      <td>Venezuela</td>\n",
       "      <td>IMF</td>\n",
       "      <td>106.33</td>\n",
       "      <td>2024</td>\n",
       "    </tr>\n",
       "  </tbody>\n",
       "</table>\n",
       "<p>72 rows × 4 columns</p>\n",
       "</div>"
      ],
      "text/plain": [
       "          country type       gdp  year\n",
       "0   United States  IMF  30337.16  2025\n",
       "1           China  IMF  19534.89  2025\n",
       "2         Germany  IMF   4921.56  2025\n",
       "3           Japan  IMF   4389.33  2025\n",
       "4           India  IMF   4271.92  2025\n",
       "..            ...  ...       ...   ...\n",
       "67     Uzbekistan  IMF    112.65  2024\n",
       "68      Guatemala  IMF    112.37  2024\n",
       "69           Oman  IMF    109.99  2024\n",
       "70       Bulgaria  IMF    108.42  2024\n",
       "71      Venezuela  IMF    106.33  2024\n",
       "\n",
       "[72 rows x 4 columns]"
      ]
     },
     "execution_count": 17,
     "metadata": {},
     "output_type": "execute_result"
    }
   ],
   "source": [
    "list_of_gdp[list_of_gdp['gdp'] >= 100]"
   ]
  },
  {
   "cell_type": "code",
   "execution_count": 33,
   "metadata": {},
   "outputs": [
    {
     "name": "stderr",
     "output_type": "stream",
     "text": [
      "/var/folders/81/7j06ccbd657bxg70hxvk8d180000gn/T/ipykernel_53814/3107584315.py:9: DeprecationWarning: DataFrameGroupBy.apply operated on the grouping columns. This behavior is deprecated, and in a future version of pandas the grouping columns will be excluded from the operation. Either pass `include_groups=False` to exclude the groupings or explicitly select the grouping columns after groupby to silence this warning.\n",
      "  merged.groupby('region').apply(top_n_mean, n=5)\n"
     ]
    },
    {
     "data": {
      "text/plain": [
       "region\n",
       "Central Asia           106.386\n",
       "East Asia             5421.570\n",
       "Eastern Europe        1066.600\n",
       "Latin America          791.566\n",
       "Middle East            598.134\n",
       "North Africa           182.072\n",
       "North America         8622.340\n",
       "Oceania                436.658\n",
       "South Asia            1043.380\n",
       "Southeast Asia         711.890\n",
       "Sub-Saharan Africa     197.530\n",
       "Western Europe        3244.486\n",
       "dtype: float64"
      ]
     },
     "execution_count": 33,
     "metadata": {},
     "output_type": "execute_result"
    }
   ],
   "source": [
    "regions = pd.read_json('data/cultural-geo-mapper.json')\n",
    "merged = list_of_gdp.merge(regions, on='country', how='left')\n",
    "\n",
    "def top_n_mean(group, n=5):\n",
    "    # 그룹 내 GDP 상위 n개 선택\n",
    "    top_n = group.nlargest(n, 'gdp')\n",
    "    return top_n['gdp'].mean()\n",
    "\n",
    "merged.groupby('region').apply(top_n_mean, n=5)"
   ]
  }
 ],
 "metadata": {
  "kernelspec": {
   "display_name": "venv_3_9",
   "language": "python",
   "name": "python3"
  },
  "language_info": {
   "codemirror_mode": {
    "name": "ipython",
    "version": 3
   },
   "file_extension": ".py",
   "mimetype": "text/x-python",
   "name": "python",
   "nbconvert_exporter": "python",
   "pygments_lexer": "ipython3",
   "version": "3.9.21"
  }
 },
 "nbformat": 4,
 "nbformat_minor": 2
}
